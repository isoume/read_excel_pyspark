{
 "cells": [
  {
   "cell_type": "markdown",
   "metadata": {},
   "source": [
    "<h3 align=\"center\">Get data in Excel file and transfrom it in dataframe or rdd format</h3>"
   ]
  },
  {
   "cell_type": "markdown",
   "metadata": {},
   "source": [
    "### Import Library"
   ]
  },
  {
   "cell_type": "code",
   "execution_count": 1,
   "metadata": {},
   "outputs": [],
   "source": [
    "from pyspark import SparkContext\n",
    "from pyspark.sql import SQLContext\n",
    "from pyspark.sql import SparkSession\n",
    "import pandas as pd\n",
    "import numpy as np\n",
    "from datetime import datetime as date\n",
    "import logging\n",
    "from pyspark.sql.types import *\n",
    "from pyspark.sql.functions import from_unixtime, unix_timestamp"
   ]
  },
  {
   "cell_type": "markdown",
   "metadata": {},
   "source": [
    "### Create a session"
   ]
  },
  {
   "cell_type": "code",
   "execution_count": 10,
   "metadata": {},
   "outputs": [],
   "source": [
    "session = SparkSession.builder.appName('Test').getOrCreate()\n",
    "sc = session.sparkContext\n",
    "sqlContext = SQLContext(sc)"
   ]
  },
  {
   "cell_type": "markdown",
   "metadata": {},
   "source": [
    "### Read the file with pandas"
   ]
  },
  {
   "cell_type": "code",
   "execution_count": 11,
   "metadata": {},
   "outputs": [],
   "source": [
    "file_name = 'data/data.xlsx'"
   ]
  },
  {
   "cell_type": "code",
   "execution_count": 12,
   "metadata": {},
   "outputs": [],
   "source": [
    "excel  = pd.read_excel(file_name, sheet_name='data')"
   ]
  },
  {
   "cell_type": "code",
   "execution_count": 13,
   "metadata": {},
   "outputs": [
    {
     "data": {
      "text/html": [
       "<div>\n",
       "<style scoped>\n",
       "    .dataframe tbody tr th:only-of-type {\n",
       "        vertical-align: middle;\n",
       "    }\n",
       "\n",
       "    .dataframe tbody tr th {\n",
       "        vertical-align: top;\n",
       "    }\n",
       "\n",
       "    .dataframe thead th {\n",
       "        text-align: right;\n",
       "    }\n",
       "</style>\n",
       "<table border=\"1\" class=\"dataframe\">\n",
       "  <thead>\n",
       "    <tr style=\"text-align: right;\">\n",
       "      <th></th>\n",
       "      <th>id</th>\n",
       "      <th>label_nav</th>\n",
       "      <th>Shared</th>\n",
       "      <th>date</th>\n",
       "      <th>price</th>\n",
       "      <th>currency</th>\n",
       "    </tr>\n",
       "  </thead>\n",
       "  <tbody>\n",
       "    <tr>\n",
       "      <th>0</th>\n",
       "      <td>366DKNK270</td>\n",
       "      <td>Graham Corporation</td>\n",
       "      <td>Industrial Machinery/Components</td>\n",
       "      <td>15/7/2020</td>\n",
       "      <td>660.53</td>\n",
       "      <td>$</td>\n",
       "    </tr>\n",
       "    <tr>\n",
       "      <th>1</th>\n",
       "      <td>428KAHR997</td>\n",
       "      <td>Duke Energy Corporation</td>\n",
       "      <td>Power Generation</td>\n",
       "      <td>18/12/2019</td>\n",
       "      <td>6.28</td>\n",
       "      <td>$</td>\n",
       "    </tr>\n",
       "    <tr>\n",
       "      <th>2</th>\n",
       "      <td>395GCOO967</td>\n",
       "      <td>SteadyMed Ltd.</td>\n",
       "      <td>Major Pharmaceuticals</td>\n",
       "      <td>1/3/2020</td>\n",
       "      <td>683.06</td>\n",
       "      <td>$</td>\n",
       "    </tr>\n",
       "    <tr>\n",
       "      <th>3</th>\n",
       "      <td>566BNZG003</td>\n",
       "      <td>First Cash, Inc.</td>\n",
       "      <td>Other Specialty Stores</td>\n",
       "      <td>6/1/2020</td>\n",
       "      <td>911.97</td>\n",
       "      <td>$</td>\n",
       "    </tr>\n",
       "    <tr>\n",
       "      <th>4</th>\n",
       "      <td>406TXAG607</td>\n",
       "      <td>Automatic Data Processing, Inc.</td>\n",
       "      <td>EDP Services</td>\n",
       "      <td>12/4/2020</td>\n",
       "      <td>390.26</td>\n",
       "      <td>$</td>\n",
       "    </tr>\n",
       "  </tbody>\n",
       "</table>\n",
       "</div>"
      ],
      "text/plain": [
       "           id                        label_nav  \\\n",
       "0  366DKNK270               Graham Corporation   \n",
       "1  428KAHR997          Duke Energy Corporation   \n",
       "2  395GCOO967                   SteadyMed Ltd.   \n",
       "3  566BNZG003                 First Cash, Inc.   \n",
       "4  406TXAG607  Automatic Data Processing, Inc.   \n",
       "\n",
       "                            Shared        date   price currency  \n",
       "0  Industrial Machinery/Components   15/7/2020  660.53        $  \n",
       "1                 Power Generation  18/12/2019    6.28        $  \n",
       "2            Major Pharmaceuticals    1/3/2020  683.06        $  \n",
       "3           Other Specialty Stores    6/1/2020  911.97        $  \n",
       "4                     EDP Services   12/4/2020  390.26        $  "
      ]
     },
     "execution_count": 13,
     "metadata": {},
     "output_type": "execute_result"
    }
   ],
   "source": [
    "excel.head()"
   ]
  },
  {
   "cell_type": "markdown",
   "metadata": {},
   "source": [
    "### Describe a structure for this data and create a dataframe"
   ]
  },
  {
   "cell_type": "code",
   "execution_count": 14,
   "metadata": {},
   "outputs": [],
   "source": [
    "schema = StructType([StructField(\"id\", StringType(), True)\\\n",
    "                     ,StructField(\"label\", StringType(), True)\\\n",
    "                     ,StructField(\"Shared\", StringType(), True)\\\n",
    "                     ,StructField(\"date\", StringType(), True)\\\n",
    "                     ,StructField(\"price\", DoubleType(), True)\n",
    "                    ,StructField(\"currency\", StringType(), True)])\n",
    "\n",
    "dataframe = session.createDataFrame(excel,schema = schema)"
   ]
  },
  {
   "cell_type": "markdown",
   "metadata": {},
   "source": [
    "### Convert the date Like date type"
   ]
  },
  {
   "cell_type": "code",
   "execution_count": null,
   "metadata": {},
   "outputs": [],
   "source": [
    "dateframe =  dataframe.select(\n",
    "    'date', \n",
    "    from_unixtime(unix_timestamp('date', 'dd/mm/yyy')).alias('date')\n",
    ")"
   ]
  },
  {
   "cell_type": "markdown",
   "metadata": {},
   "source": [
    "### Get the rrd data from pandas"
   ]
  },
  {
   "cell_type": "code",
   "execution_count": null,
   "metadata": {},
   "outputs": [],
   "source": [
    "rdd = dataframe.rdd"
   ]
  },
  {
   "cell_type": "markdown",
   "metadata": {},
   "source": [
    "### Collect data in the rdd"
   ]
  },
  {
   "cell_type": "code",
   "execution_count": 18,
   "metadata": {},
   "outputs": [
    {
     "data": {
      "text/plain": [
       "Row(id='366DKNK270', label='Graham Corporation', Shared='Industrial Machinery/Components', date='15/7/2020', price=660.53, currency='$')"
      ]
     },
     "execution_count": 18,
     "metadata": {},
     "output_type": "execute_result"
    }
   ],
   "source": [
    "rdd.first()"
   ]
  },
  {
   "cell_type": "code",
   "execution_count": null,
   "metadata": {},
   "outputs": [],
   "source": []
  }
 ],
 "metadata": {
  "kernelspec": {
   "display_name": "Python 3",
   "language": "python",
   "name": "python3"
  },
  "language_info": {
   "codemirror_mode": {
    "name": "ipython",
    "version": 3
   },
   "file_extension": ".py",
   "mimetype": "text/x-python",
   "name": "python",
   "nbconvert_exporter": "python",
   "pygments_lexer": "ipython3",
   "version": "3.6.9"
  }
 },
 "nbformat": 4,
 "nbformat_minor": 4
}
